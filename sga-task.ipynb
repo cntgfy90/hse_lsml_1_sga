{
 "cells": [
  {
   "cell_type": "markdown",
   "metadata": {},
   "source": [
    "# User routes on the site\n",
    "## Description\n",
    "**Clickstream** is a sequence of user actions on a website. It allows you to understand how users interact with the site. In this task, you need to find the most frequent custom routes.\n",
    "\n",
    "## Input data\n",
    "Input data is а table with clickstream data in file `hdfs:/data/clickstream.csv`.\n",
    "\n",
    "### Table structure\n",
    "* `user_id (int)` - Unique user identifier.\n",
    "* `session_id (int)` - Unique identifier for the user session. The user's session lasts until the identifier changes.\n",
    "* `event_type (string)` - Event type from the list:\n",
    "    * **page** - visit to the page\n",
    "    * **event** - any action on the page\n",
    "    * <b>&lt;custom&gt;</b> - string with any other type\n",
    "* `event_type (string)` - Page on the site.\n",
    "* `timestamp (int)` - Unix-timestamp of action.\n",
    "\n",
    "### Browser errors\n",
    "Errors can sometimes occur in the user's browser - after such an error appears, we can no longer trust the data of this session and all the following lines after the error or at the same time with it are considered corrupted and **should not be counted** in statistics.\n",
    "\n",
    "When an error occurs on the page, a random string containing the word **error** will be written to the `event_type` field.\n",
    "\n",
    "### Sample of user session\n",
    "<pre>\n",
    "+-------+----------+------------+----------+----------+\n",
    "|user_id|session_id|  event_type|event_page| timestamp|\n",
    "+-------+----------+------------+----------+----------+\n",
    "|    562|       507|        page|      main|1620494781|\n",
    "|    562|       507|       event|      main|1620494788|\n",
    "|    562|       507|       event|      main|1620494798|\n",
    "|    562|       507|        page|    family|1620494820|\n",
    "|    562|       507|       event|    family|1620494828|\n",
    "|    562|       507|        page|      main|1620494848|\n",
    "|    562|       507|wNaxLlerrorU|      main|1620494865|\n",
    "|    562|       507|       event|      main|1620494873|\n",
    "|    562|       507|        page|      news|1620494875|\n",
    "|    562|       507|        page|   tariffs|1620494876|\n",
    "|    562|       507|       event|   tariffs|1620494884|\n",
    "|    562|       514|        page|      main|1620728918|\n",
    "|    562|       514|       event|      main|1620729174|\n",
    "|    562|       514|        page|   archive|1620729674|\n",
    "|    562|       514|        page|     bonus|1620729797|\n",
    "|    562|       514|        page|   tariffs|1620731090|\n",
    "|    562|       514|       event|   tariffs|1620731187|\n",
    "+-------+----------+------------+----------+----------+\n",
    "</pre>\n",
    "\n",
    "#### Correct user routes for a given user:\n",
    "* **Session 507**: main-family-main\n",
    "* **Session 514**: main-archive-bonus-tariffs\n",
    "\n",
    "Route elements are ordered by the time they appear in the clickstream, from earliest to latest.\n",
    "\n",
    "The route must be accounted for completely before the end of the session or an error in the session.\n",
    "\n",
    "## Task\n",
    "You need to use the Spark SQL, Spark RDD and Spark DF interfaces to create a solution file, the lines of which contain **the 30 most frequent user routes** on the site.\n",
    "\n",
    "Each line of the file should contain the `route` and `count` values **separated by tabs**, where:\n",
    "* `route` - route on the site, consisting of pages separated by \"-\".\n",
    "* `count` - the number of user sessions in which this route was.\n",
    "\n",
    "The lines must be **ordered in descending order** of the `count` field.\n",
    "\n",
    "## Criteria\n",
    "You can get maximum of 3.5 points (final grade) for this assignment, depedning on the number of interface you manage to leverage. The criteria are as follows:\n",
    "\n",
    "* 0.5 points – Spark SQL solution with 1 query\n",
    "* 0.5 points – Spark SQL solution with <=2 queries\n",
    "* 0.5 points – Spark RDD solution\n",
    "* 0.5 points – Spark DF solution\n",
    "* 0.5 points – your solution algorithm is relatively optimized, i.e.: no O^2 or O^3 complexities; appropriate object usage; no data leaks etc. This is evaluated by staff.\n",
    "* 1 point – 1 on 1 screening session. During this session staff member can ask you questions regarding your solution logic, framework usage, questionable parts of your code etc. If your code is clean enough, the staff member can just ask you to solve a theoretical problem connected to Spark.\n"
   ]
  },
  {
   "cell_type": "code",
   "execution_count": 8,
   "metadata": {
    "tags": []
   },
   "outputs": [
    {
     "name": "stderr",
     "output_type": "stream",
     "text": [
      "Setting default log level to \"WARN\".\n",
      "To adjust logging level use sc.setLogLevel(newLevel). For SparkR, use setLogLevel(newLevel).\n",
      "2024-01-21 16:07:48,855 WARN yarn.Client: Neither spark.yarn.jars nor spark.yarn.archive is set, falling back to uploading libraries under SPARK_HOME.\n"
     ]
    }
   ],
   "source": [
    "import findspark\n",
    "findspark.init()\n",
    "import os\n",
    "import pyspark.sql.functions as F\n",
    "from pyspark.sql import SparkSession, Row, Window\n",
    "from pyspark import SparkContext\n",
    "\n",
    "sc = SparkContext(appName='SGA')\n",
    "spark = SparkSession(sc)"
   ]
  },
  {
   "cell_type": "code",
   "execution_count": 32,
   "metadata": {
    "tags": []
   },
   "outputs": [
    {
     "name": "stderr",
     "output_type": "stream",
     "text": [
      "                                                                                \r"
     ]
    },
    {
     "data": {
      "text/plain": [
       "[Row(route='main', count=8091),\n",
       " Row(route='main-archive', count=1094),\n",
       " Row(route='main-rabota', count=1039),\n",
       " Row(route='main-internet', count=879),\n",
       " Row(route='main-bonus', count=866),\n",
       " Row(route='main-news', count=760),\n",
       " Row(route='main-tariffs', count=669),\n",
       " Row(route='main-online', count=584),\n",
       " Row(route='main-vklad', count=512),\n",
       " Row(route='main-rabota-archive', count=167),\n",
       " Row(route='main-archive-rabota', count=166),\n",
       " Row(route='main-bonus-archive', count=139),\n",
       " Row(route='main-rabota-bonus', count=136),\n",
       " Row(route='main-bonus-rabota', count=134),\n",
       " Row(route='main-news-rabota', count=134),\n",
       " Row(route='main-archive-internet', count=130),\n",
       " Row(route='main-rabota-news', count=129),\n",
       " Row(route='main-internet-rabota', count=128),\n",
       " Row(route='main-archive-news', count=125),\n",
       " Row(route='main-internet-archive', count=123),\n",
       " Row(route='main-rabota-internet', count=123),\n",
       " Row(route='main-archive-bonus', count=117),\n",
       " Row(route='main-internet-bonus', count=114),\n",
       " Row(route='main-tariffs-internet', count=113),\n",
       " Row(route='main-news-archive', count=112),\n",
       " Row(route='main-news-internet', count=108),\n",
       " Row(route='main-archive-tariffs', count=103),\n",
       " Row(route='main-tariffs-archive', count=102),\n",
       " Row(route='main-internet-news', count=102),\n",
       " Row(route='main-main', count=94)]"
      ]
     },
     "execution_count": 32,
     "metadata": {},
     "output_type": "execute_result"
    }
   ],
   "source": [
    "df = spark.read.csv('hdfs:/data/clickstream.csv', header=True, sep='\\t')\n",
    "\n",
    "df.createOrReplaceTempView('Clickstream')\n",
    "\n",
    "spark.sql('''\n",
    "    select distinct\n",
    "        substring(t.route, 0, length(t.route) - 1) as route,\n",
    "        count(*) over(partition by route) as count\n",
    "    from (\n",
    "        select\n",
    "            substring_index(\n",
    "                concat_ws(\n",
    "                    '',\n",
    "                    collect_list(\n",
    "                        case event_type\n",
    "                            when 'page'\n",
    "                                then concat(event_page, '-')\n",
    "                            when 'event'\n",
    "                                then '' \n",
    "                            else 'CUSTOM_DELIMITER'\n",
    "                        end\n",
    "                    )\n",
    "                ),\n",
    "                'CUSTOM_DELIMITER',\n",
    "                1\n",
    "            ) as route\n",
    "        from (select * from Clickstream order by user_id asc, session_id asc, timestamp asc, event_page asc)\n",
    "        group by user_id, session_id\n",
    "    ) t\n",
    "    order by count desc\n",
    "''').take(30)"
   ]
  },
  {
   "cell_type": "code",
   "execution_count": 33,
   "metadata": {
    "tags": []
   },
   "outputs": [
    {
     "name": "stderr",
     "output_type": "stream",
     "text": [
      "                                                                                \r"
     ]
    },
    {
     "data": {
      "text/plain": [
       "[('main', 8089),\n",
       " ('main-archive', 1095),\n",
       " ('main-rabota', 1039),\n",
       " ('main-internet', 879),\n",
       " ('main-bonus', 864),\n",
       " ('main-news', 760),\n",
       " ('main-tariffs', 669),\n",
       " ('main-online', 585),\n",
       " ('main-vklad', 514),\n",
       " ('main-archive-rabota', 167),\n",
       " ('main-rabota-archive', 166),\n",
       " ('main-bonus-archive', 139),\n",
       " ('main-rabota-bonus', 137),\n",
       " ('main-news-rabota', 134),\n",
       " ('main-bonus-rabota', 133),\n",
       " ('main-archive-internet', 131),\n",
       " ('main-rabota-news', 129),\n",
       " ('main-internet-rabota', 128),\n",
       " ('main-archive-news', 125),\n",
       " ('main-rabota-internet', 123),\n",
       " ('main-internet-archive', 123),\n",
       " ('main-archive-bonus', 117),\n",
       " ('main-internet-bonus', 114),\n",
       " ('main-tariffs-internet', 113),\n",
       " ('main-news-archive', 112),\n",
       " ('main-news-internet', 108),\n",
       " ('main-archive-tariffs', 103),\n",
       " ('main-internet-news', 102),\n",
       " ('main-tariffs-archive', 102),\n",
       " ('main-main', 94)]"
      ]
     },
     "execution_count": 33,
     "metadata": {},
     "output_type": "execute_result"
    }
   ],
   "source": [
    "def merge_value(acc, x):\n",
    "    if x[0][0] == 'event' or not acc[-1][0]:\n",
    "        return acc\n",
    "\n",
    "    if x[0][0] != 'page' and x[0][0] != 'event':\n",
    "        acc += [[False]]\n",
    "        return acc\n",
    "\n",
    "    if x[0][0] == 'page':\n",
    "        acc += x\n",
    "\n",
    "    return acc\n",
    "\n",
    "def merge_combiners(acc, x):\n",
    "    acc.extend(x)\n",
    "    return acc\n",
    "\n",
    "rdd = sc.parallelize(\n",
    "    df.rdd \\\n",
    "    .sortBy(lambda x: (x.user_id, x.session_id, x.timestamp), ascending=True) \\\n",
    "    .map(lambda x: ((x.user_id, x.session_id), [[x.event_type, x.event_page]])) \\\n",
    "    .combineByKey(lambda x: x, merge_value, merge_combiners) \\\n",
    "    .map(lambda x: (x[0], [i for i in x[1] if len(i) == 2])) \\\n",
    "    .map(lambda x: '-'.join([i[1] for i in x[1]])) \\\n",
    "    .countByValue() \\\n",
    "    .items()\n",
    ").sortBy(lambda x: x[1], ascending=False)\n",
    "\n",
    "rdd.take(30)"
   ]
  },
  {
   "cell_type": "code",
   "execution_count": 34,
   "metadata": {
    "tags": []
   },
   "outputs": [
    {
     "name": "stderr",
     "output_type": "stream",
     "text": [
      "                                                                                \r"
     ]
    },
    {
     "data": {
      "text/plain": [
       "[Row(route='main', count=8091),\n",
       " Row(route='main-archive', count=1095),\n",
       " Row(route='main-rabota', count=1037),\n",
       " Row(route='main-internet', count=879),\n",
       " Row(route='main-bonus', count=865),\n",
       " Row(route='main-news', count=760),\n",
       " Row(route='main-tariffs', count=669),\n",
       " Row(route='main-online', count=584),\n",
       " Row(route='main-vklad', count=513),\n",
       " Row(route='main-archive-rabota', count=167),\n",
       " Row(route='main-rabota-archive', count=167),\n",
       " Row(route='main-bonus-archive', count=139),\n",
       " Row(route='main-rabota-bonus', count=136),\n",
       " Row(route='main-news-rabota', count=134),\n",
       " Row(route='main-bonus-rabota', count=134),\n",
       " Row(route='main-archive-internet', count=131),\n",
       " Row(route='main-rabota-news', count=129),\n",
       " Row(route='main-internet-rabota', count=128),\n",
       " Row(route='main-archive-news', count=125),\n",
       " Row(route='main-internet-archive', count=123),\n",
       " Row(route='main-rabota-internet', count=122),\n",
       " Row(route='main-archive-bonus', count=117),\n",
       " Row(route='main-internet-bonus', count=114),\n",
       " Row(route='main-tariffs-internet', count=113),\n",
       " Row(route='main-news-archive', count=112),\n",
       " Row(route='main-news-internet', count=108),\n",
       " Row(route='main-archive-tariffs', count=103),\n",
       " Row(route='main-internet-news', count=102),\n",
       " Row(route='main-tariffs-archive', count=102),\n",
       " Row(route='main-main', count=94)]"
      ]
     },
     "execution_count": 34,
     "metadata": {},
     "output_type": "execute_result"
    }
   ],
   "source": [
    "from pyspark.sql.types import IntegerType\n",
    "\n",
    "dt = df \\\n",
    "    .orderBy(['user_id', 'session_id', 'timestamp', 'event_page'], ascending=True) \\\n",
    "    .groupby(['user_id', 'session_id']) \\\n",
    "    .agg( \\\n",
    "        F.substring_index(\n",
    "            F.concat_ws('', \\\n",
    "                F.collect_list( \\\n",
    "                    F.when(F.lower(F.trim(df['event_type'])) == 'page', F.concat(F.lower(F.trim(df['event_page'])), F.lit('-'))) \\\n",
    "                    .otherwise(\n",
    "                        F.when(F.lower(F.trim(df['event_type'])) == 'event', F.lit('')) \\\n",
    "                        .otherwise('CUSTOM_DELIMITER') \\\n",
    "                    )) \\\n",
    "                ),\n",
    "            'CUSTOM_DELIMITER', \\\n",
    "            1 \\\n",
    "            ).alias('route'), \\\n",
    "        ) \\\n",
    "    .withColumn('route_length', F.length('route') - 1) \\\n",
    "    .select(F.expr('substring(route, 0, route_length) as route')) \\\n",
    "    .groupBy('route') \\\n",
    "    .count() \\\n",
    "    .orderBy('count', ascending=False)\n",
    "\n",
    "dt.head(30)"
   ]
  },
  {
   "cell_type": "code",
   "execution_count": 35,
   "metadata": {
    "tags": []
   },
   "outputs": [],
   "source": [
    "def save(rdd, path):\n",
    "    result = [i[0] + '\\t' + str(i[1]) for i in map(lambda x: list(x), rdd.take(30))]\n",
    "    result.insert(0, 'route\\tcount')\n",
    "    result = '\\n'.join(result)\n",
    "    with open(path, 'w') as f:\n",
    "        f.write(result)\n",
    "\n",
    "save(rdd, \"result_30_rows.txt\")"
   ]
  }
 ],
 "metadata": {
  "coursera": {
   "schema_names": [
    "week-4-spark-homework"
   ]
  },
  "kernelspec": {
   "display_name": "Python 3 (ipykernel)",
   "language": "python",
   "name": "python3"
  },
  "language_info": {
   "codemirror_mode": {
    "name": "ipython",
    "version": 3
   },
   "file_extension": ".py",
   "mimetype": "text/x-python",
   "name": "python",
   "nbconvert_exporter": "python",
   "pygments_lexer": "ipython3",
   "version": "3.10.9"
  },
  "vscode": {
   "interpreter": {
    "hash": "31f2aee4e71d21fbe5cf8b01ff0e069b9275f58929596ceb00d14d90e3e16cd6"
   }
  }
 },
 "nbformat": 4,
 "nbformat_minor": 4
}
